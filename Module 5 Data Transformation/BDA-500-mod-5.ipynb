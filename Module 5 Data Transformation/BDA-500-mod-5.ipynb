{
 "cells": [
  {
   "cell_type": "code",
   "execution_count": null,
   "metadata": {},
   "outputs": [],
   "source": [
    "import numpy as np\n",
    "import pandas as pd"
   ]
  },
  {
   "cell_type": "code",
   "execution_count": null,
   "metadata": {},
   "outputs": [],
   "source": [
    "# Read the COVID Testing Data Excel file.\n",
    "df = pd.read_excel(\n",
    "    \"BDA 500 - COVID Testing Data.xlsx\", sheet_name=\"COVID_Testing_Date\"  # sic\n",
    ")"
   ]
  },
  {
   "cell_type": "markdown",
   "metadata": {},
   "source": [
    "# Processing from Module 4\n"
   ]
  },
  {
   "cell_type": "code",
   "execution_count": null,
   "metadata": {},
   "outputs": [],
   "source": [
    "# Clean the \"Temperature\" column.\n",
    "valid_temps = df.eval(\"90 < Temperature < 110 or Temperature.isna()\")\n",
    "invalid_temps = ~valid_temps\n",
    "\n",
    "df.loc[invalid_temps, \"Temperature\"] = np.nan"
   ]
  },
  {
   "cell_type": "code",
   "execution_count": null,
   "metadata": {},
   "outputs": [],
   "source": [
    "# Clean the \"Age\" column.\n",
    "df[\"Age\"] = pd.to_numeric(df[\"Age\"], errors=\"coerce\").astype(\"Int64\")\n",
    "\n",
    "valid_ages = df.eval(\"0 < Age < 120 or Age.isna()\")\n",
    "invalid_ages = ~valid_ages\n",
    "\n",
    "df.loc[invalid_ages, \"Age\"] = np.nan"
   ]
  },
  {
   "cell_type": "code",
   "execution_count": null,
   "metadata": {},
   "outputs": [],
   "source": [
    "# Clean the \"Test_Administrator\" column.\n",
    "df.loc[df[\"Test_Administrator\"] == \"ID-\", \"Test_Administrator\"] = np.nan"
   ]
  },
  {
   "cell_type": "code",
   "execution_count": null,
   "metadata": {},
   "outputs": [],
   "source": [
    "# Recalculate the \"Age_60_And_Above\" column for accuracy\n",
    "df[\"Age_60_And_Above\"] = (df[\"Age\"] >= 60).fillna(False)"
   ]
  },
  {
   "cell_type": "markdown",
   "metadata": {},
   "source": [
    "# 1. Bin the Age variable into a new variable using your chosen bins, and describe your process.\n"
   ]
  },
  {
   "cell_type": "code",
   "execution_count": null,
   "metadata": {},
   "outputs": [],
   "source": [
    "# Cut the \"Age\" column into 4 quantiles (quartiles). Use `precision=0` to force rounding\n",
    "# the bins to a whole number.\n",
    "pd.qcut(df[\"Age\"], 4, precision=0).value_counts(dropna=False).sort_index()"
   ]
  },
  {
   "cell_type": "code",
   "execution_count": null,
   "metadata": {},
   "outputs": [],
   "source": [
    "# Add an \"age_quartile\" column to our DataFrame. Instead of putting the range of ages,\n",
    "# we'll use the labels `[\"Q1\", \"Q2\", \"Q3\", \"Q4\"]`.\n",
    "df[\"age_quartile\"] = pd.qcut(df[\"Age\"], 4, precision=0, labels=[\"Q1\", \"Q2\", \"Q3\", \"Q4\"])\n",
    "\n",
    "# View a random sample of the table to ensure accuracy.\n",
    "df[[\"Age\", \"age_quartile\"]].sample(10)"
   ]
  },
  {
   "cell_type": "markdown",
   "metadata": {},
   "source": [
    "# Transform the Date variable into a new variable with \"Weekday\" or \"Weekend\" bins and describe your process.\n"
   ]
  },
  {
   "cell_type": "code",
   "execution_count": null,
   "metadata": {},
   "outputs": [],
   "source": [
    "# Create a helper column called \"DOW\" that uses `strftime` to convert each datetime\n",
    "# to a string. The code `\"%a\"` converts each date to its abbreviated name of the day of\n",
    "# the week (i.e. Sun, Mon, ..., Sat). (Locale dependent!!)\n",
    "DOW = df[\"Date\"].dt.strftime(\"%a\").rename(\"DOW\")\n",
    "DOW"
   ]
  },
  {
   "cell_type": "code",
   "execution_count": null,
   "metadata": {},
   "outputs": [],
   "source": [
    "# Pass two simple regular expressions to `.replace`. `\"Sat|Sun\"` matches either \"Sat\" or\n",
    "# \"Sun\". The regex `\"Mon|Tue|Wed|Thu|Fri\"` works similarly.\n",
    "df[\"weekend_weekday\"] = DOW.replace(\n",
    "    regex={\"Sat|Sun\": \"Weekend\", \"Mon|Tue|Wed|Thu|Fri\": \"Weekday\"}\n",
    ")\n",
    "\n",
    "# View our date column and our new weekend_weekday column together. We'll also `concat`\n",
    "# our helper column, `DOW`, to help confirm accuracy.\n",
    "pd.concat([df[[\"Date\", \"weekend_weekday\"]], DOW], axis=\"columns\")"
   ]
  },
  {
   "cell_type": "code",
   "execution_count": null,
   "metadata": {},
   "outputs": [],
   "source": [
    "# Before we start plotting, let's separate out the Boolean columns that won't look super\n",
    "# nice with traditional numeric plotting.\n",
    "bool_cols = [\n",
    "    \"Cough\",\n",
    "    \"Fever\",\n",
    "    \"Sore_Throat\",\n",
    "    \"Shortness_Of_Breath\",\n",
    "    \"Headache\",\n",
    "    \"Age_60_And_Above\",\n",
    "    \"Contact\",\n",
    "]\n",
    "\n",
    "# The `bool_cols`, plus a few others, make up all of our categories.\n",
    "categorical_cols = bool_cols + [\n",
    "    \"Sex\",\n",
    "    \"Result\",\n",
    "    \"Test_Administrator\",\n",
    "    \"Patient_Experience_Survey\",\n",
    "    \"Test_Type\",\n",
    "    \"age_quartile\",\n",
    "    \"weekend_weekday\",\n",
    "]\n",
    "\n",
    "# Create a subset called `columns_good_for_plotting` that has no Boolean columns.\n",
    "columns_good_for_plotting = df.drop(columns=categorical_cols)"
   ]
  },
  {
   "cell_type": "code",
   "execution_count": null,
   "metadata": {},
   "outputs": [],
   "source": [
    "# Import plotting libraries `matplotlib` and `seaborn`.\n",
    "import matplotlib.pyplot as plt\n",
    "import seaborn as sns\n",
    "\n",
    "# Make a pair-plot for each categorical variable in the list we created above.\n",
    "for category in categorical_cols:\n",
    "    print(category)\n",
    "\n",
    "    # Decide on the Palette\n",
    "    # ---------------------\n",
    "    # This is just a few rules to give us a nice palette for certain plots instead of\n",
    "    # relying on the default colormap. It colors 0/False/\"negative\" as green for \"good\"\n",
    "    # outcomes, while 1/True/\"positive\" are colored red for \"bad\".\n",
    "    # Additionally, it uses the traditional blue/pink colorscheme for male and female\n",
    "    # respectively.\n",
    "    if set(df[category].dropna()) == {0, 1}:\n",
    "        palette = {0: \"green\", 1: \"red\"}\n",
    "    elif set(df[category].dropna()) == {True, False}:\n",
    "        palette = {False: \"green\", True: \"red\"}\n",
    "    elif set(df[category].dropna()) == {\"positive\", \"negative\"}:\n",
    "        palette = {\"negative\": \"green\", \"positive\": \"red\"}\n",
    "    elif set(df[category].dropna()) == {\"male\", \"female\"}:\n",
    "        palette = {\"male\": \"blue\", \"female\": \"pink\"}\n",
    "    else:\n",
    "        # If it's none of those situations, just let `seaborn` use whatever color\n",
    "        # palette it wants.\n",
    "        palette = None\n",
    "\n",
    "    # Make sure our categorical column is part of our subset.\n",
    "    cols_to_plot = columns_good_for_plotting.columns.union([category])\n",
    "    pairplot = sns.pairplot(df[cols_to_plot], hue=category, palette=palette)\n",
    "\n",
    "    # Give each plot a title\n",
    "    pairplot.figure.suptitle(\n",
    "        f\"COVID 19 Data by {category.replace('_', ' ').title()}\", y=1.015\n",
    "    )\n",
    "    # and show the plot.\n",
    "    plt.show()\n",
    "\n",
    "    print(\"\\n\\n\")"
   ]
  },
  {
   "cell_type": "code",
   "execution_count": null,
   "metadata": {},
   "outputs": [],
   "source": [
    "for category in categorical_cols:\n",
    "    if category == \"Result\":\n",
    "        # Can't graph result and result. Just skip this category.\n",
    "        continue\n",
    "\n",
    "    ax = (\n",
    "        df[[\"Result\", category]]\n",
    "        .value_counts()\n",
    "        .sort_index()\n",
    "        .unstack()\n",
    "        .plot.bar(stacked=True)\n",
    "    )\n",
    "\n",
    "    # Add labels to the bars so we can actually see what's going on.\n",
    "    for bar in ax.containers:\n",
    "        label_style = {\n",
    "            \"fc\": \"lightgrey\",\n",
    "            \"edgecolor\": \"none\",\n",
    "            \"pad\": 0.1,\n",
    "            \"boxstyle\": \"round\",\n",
    "        }\n",
    "        ax.bar_label(bar, label_type=\"center\", bbox=label_style)\n",
    "\n",
    "    # Add a title.\n",
    "    ax.set_title(f\"COVID 19 Data: {category} by test result\")"
   ]
  }
 ],
 "metadata": {
  "kernelspec": {
   "display_name": "BDA-500",
   "language": "python",
   "name": "python3"
  },
  "language_info": {
   "codemirror_mode": {
    "name": "ipython",
    "version": 3
   },
   "file_extension": ".py",
   "mimetype": "text/x-python",
   "name": "python",
   "nbconvert_exporter": "python",
   "pygments_lexer": "ipython3",
   "version": "3.12.2"
  }
 },
 "nbformat": 4,
 "nbformat_minor": 2
}
